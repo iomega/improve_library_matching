{
 "cells": [
  {
   "cell_type": "code",
   "execution_count": 1,
   "metadata": {},
   "outputs": [],
   "source": [
    "import os\n",
    "import sys\n",
    "import gensim\n",
    "import numpy as np\n",
    "import pandas as pd\n",
    "from matplotlib import pyplot as plt\n",
    "import pickle\n",
    "\n",
    "ROOT = os.path.dirname(os.getcwd())\n",
    "#path_data = os.path.join(ROOT, 'data')\n",
    "path_data = 'C:\\\\Users\\\\joris\\\\Documents\\\\eScience_data\\\\data'\n",
    "sys.path.insert(0, ROOT)\n",
    "sys.path.insert(0, \"C:\\\\Users\\\\joris\\\\Documents\\\\eScience_data\\\\spec2vec_gnps_data_analysis\\\\custom_functions\")"
   ]
  },
  {
   "cell_type": "markdown",
   "metadata": {},
   "source": [
    "## Loading data ready for training\n",
    "-Creation of this data can be seen in 3b"
   ]
  },
  {
   "cell_type": "code",
   "execution_count": 2,
   "metadata": {},
   "outputs": [
    {
     "name": "stdout",
     "output_type": "stream",
     "text": [
      "C:\\Users\\joris\\Documents\\eScience_data\\data\\nn_prep_training_found_matches_s2v_2dec.pickle\n"
     ]
    }
   ],
   "source": [
    "# training set\n",
    "outfile = os.path.join(path_data, 'nn_prep_training_found_matches_s2v_2dec.pickle')\n",
    "print(outfile)\n",
    "if os.path.exists(outfile):\n",
    "    with open(outfile, 'rb') as inf:\n",
    "        nn_prep_training_found_matches_s2v_2dec = pickle.load(inf)\n",
    "else:\n",
    "    nn_prep_training_found_matches_s2v_2dec = find_info_matches(old_and_unique_found_matches_s2v_2dec_top20,\n",
    "                                                                old_and_unique_documents_library_s2v_2dec,\n",
    "                                                                old_and_unique_documents_query_s2v_2dec,\n",
    "                                                                max_parent_mass=max_parent_mass)\n",
    "    with open(outfile, 'wb') as outf:\n",
    "        pickle.dump(nn_prep_training_found_matches_s2v_2dec, outf)"
   ]
  },
  {
   "cell_type": "code",
   "execution_count": 3,
   "metadata": {},
   "outputs": [
    {
     "name": "stdout",
     "output_type": "stream",
     "text": [
      "C:\\Users\\joris\\Documents\\eScience_data\\data\\nn_prep_testing_found_matches_s2v_2dec.pickle\n"
     ]
    }
   ],
   "source": [
    "outfile = os.path.join(path_data, 'nn_prep_testing_found_matches_s2v_2dec.pickle')\n",
    "print(outfile)\n",
    "if os.path.exists(outfile):\n",
    "    with open(outfile, 'rb') as inf:\n",
    "        nn_prep_testing_found_matches_s2v_2dec = pickle.load(inf)\n",
    "else:\n",
    "    nn_prep_testing_found_matches_s2v_2dec = find_info_matches(new_and_unique2_found_matches_s2v_2dec_top20,\n",
    "                                                                new_and_unique2_documents_library_s2v_2dec,\n",
    "                                                                new_and_unique2_documents_query_s2v_2dec,\n",
    "                                                                max_parent_mass=max_parent_mass)\n",
    "    with open(outfile, 'wb') as outf:\n",
    "        pickle.dump(nn_prep_testing_found_matches_s2v_2dec, outf)"
   ]
  },
  {
   "cell_type": "code",
   "execution_count": 4,
   "metadata": {},
   "outputs": [
    {
     "data": {
      "text/html": [
       "<div>\n",
       "<style scoped>\n",
       "    .dataframe tbody tr th:only-of-type {\n",
       "        vertical-align: middle;\n",
       "    }\n",
       "\n",
       "    .dataframe tbody tr th {\n",
       "        vertical-align: top;\n",
       "    }\n",
       "\n",
       "    .dataframe thead th {\n",
       "        text-align: right;\n",
       "    }\n",
       "</style>\n",
       "<table border=\"1\" class=\"dataframe\">\n",
       "  <thead>\n",
       "    <tr style=\"text-align: right;\">\n",
       "      <th></th>\n",
       "      <th>cosine_score</th>\n",
       "      <th>cosine_matches</th>\n",
       "      <th>mod_cosine_score</th>\n",
       "      <th>mod_cosine_matches</th>\n",
       "      <th>s2v_score</th>\n",
       "      <th>label</th>\n",
       "      <th>similarity</th>\n",
       "      <th>parent_mass</th>\n",
       "      <th>mass_sim</th>\n",
       "    </tr>\n",
       "  </thead>\n",
       "  <tbody>\n",
       "    <tr>\n",
       "      <th>22101</th>\n",
       "      <td>0.928457</td>\n",
       "      <td>0.663299</td>\n",
       "      <td>0.928457</td>\n",
       "      <td>0.663299</td>\n",
       "      <td>0.909346</td>\n",
       "      <td>1</td>\n",
       "      <td>1.000000</td>\n",
       "      <td>0.034743</td>\n",
       "      <td>0.999777</td>\n",
       "    </tr>\n",
       "    <tr>\n",
       "      <th>20538</th>\n",
       "      <td>0.856661</td>\n",
       "      <td>0.549896</td>\n",
       "      <td>0.856661</td>\n",
       "      <td>0.549896</td>\n",
       "      <td>0.859138</td>\n",
       "      <td>1</td>\n",
       "      <td>1.000000</td>\n",
       "      <td>0.034743</td>\n",
       "      <td>1.000000</td>\n",
       "    </tr>\n",
       "    <tr>\n",
       "      <th>22454</th>\n",
       "      <td>0.857507</td>\n",
       "      <td>0.549896</td>\n",
       "      <td>0.857507</td>\n",
       "      <td>0.549896</td>\n",
       "      <td>0.674490</td>\n",
       "      <td>1</td>\n",
       "      <td>1.000000</td>\n",
       "      <td>0.034743</td>\n",
       "      <td>1.000000</td>\n",
       "    </tr>\n",
       "    <tr>\n",
       "      <th>1366</th>\n",
       "      <td>0.389183</td>\n",
       "      <td>0.549896</td>\n",
       "      <td>0.389183</td>\n",
       "      <td>0.549896</td>\n",
       "      <td>0.584506</td>\n",
       "      <td>1</td>\n",
       "      <td>1.000000</td>\n",
       "      <td>0.034744</td>\n",
       "      <td>0.999554</td>\n",
       "    </tr>\n",
       "    <tr>\n",
       "      <th>5998</th>\n",
       "      <td>0.336160</td>\n",
       "      <td>0.070000</td>\n",
       "      <td>0.337487</td>\n",
       "      <td>0.195643</td>\n",
       "      <td>0.303197</td>\n",
       "      <td>0</td>\n",
       "      <td>0.581808</td>\n",
       "      <td>0.037051</td>\n",
       "      <td>0.000997</td>\n",
       "    </tr>\n",
       "  </tbody>\n",
       "</table>\n",
       "</div>"
      ],
      "text/plain": [
       "       cosine_score  cosine_matches  mod_cosine_score  mod_cosine_matches  \\\n",
       "22101      0.928457        0.663299          0.928457            0.663299   \n",
       "20538      0.856661        0.549896          0.856661            0.549896   \n",
       "22454      0.857507        0.549896          0.857507            0.549896   \n",
       "1366       0.389183        0.549896          0.389183            0.549896   \n",
       "5998       0.336160        0.070000          0.337487            0.195643   \n",
       "\n",
       "       s2v_score  label  similarity  parent_mass  mass_sim  \n",
       "22101   0.909346      1    1.000000     0.034743  0.999777  \n",
       "20538   0.859138      1    1.000000     0.034743  1.000000  \n",
       "22454   0.674490      1    1.000000     0.034743  1.000000  \n",
       "1366    0.584506      1    1.000000     0.034744  0.999554  \n",
       "5998    0.303197      0    0.581808     0.037051  0.000997  "
      ]
     },
     "execution_count": 4,
     "metadata": {},
     "output_type": "execute_result"
    }
   ],
   "source": [
    "nn_prep_testing_found_matches_s2v_2dec[2].iloc[:5]"
   ]
  },
  {
   "cell_type": "markdown",
   "metadata": {},
   "source": [
    "## Add matches together for each query"
   ]
  },
  {
   "cell_type": "code",
   "execution_count": 37,
   "metadata": {},
   "outputs": [],
   "source": [
    "# add all the found matches together in one big df\n",
    "nn_training_found_matches_s2v_2dec = nn_prep_training_found_matches_s2v_2dec[0].append(\n",
    "    nn_prep_training_found_matches_s2v_2dec[1:])\n",
    "\n",
    "nn_testing_full_found_matches_s2v_2dec = nn_prep_testing_found_matches_s2v_2dec[0].append(\n",
    "    nn_prep_testing_found_matches_s2v_2dec[1:])\n",
    "\n",
    "# take 200 (randomly chosen) query matches for validation set\n",
    "np.random.seed(42)\n",
    "first_half = list(np.random.choice(range(0,1000), 100, replace=False))\n",
    "second_half = list(np.random.choice(range(1000,2000), 100, replace=False))\n",
    "val_set = first_half + second_half\n",
    "nn_val_found_matches_s2v_2dec = pd.DataFrame()\n",
    "nn_testing_found_matches_s2v_2dec = pd.DataFrame()\n",
    "\n",
    "for i in range(len(nn_prep_testing_found_matches_s2v_2dec)):\n",
    "    if i in val_set:\n",
    "        nn_val_found_matches_s2v_2dec = nn_val_found_matches_s2v_2dec.append(nn_prep_testing_found_matches_s2v_2dec[i])\n",
    "    else:\n",
    "        nn_testing_found_matches_s2v_2dec = nn_testing_found_matches_s2v_2dec.append(nn_prep_testing_found_matches_s2v_2dec[i])"
   ]
  },
  {
   "cell_type": "code",
   "execution_count": 40,
   "metadata": {},
   "outputs": [
    {
     "data": {
      "image/png": "[encoded data removed]",
      "text/plain": [
       "<Figure size 432x288 with 1 Axes>"
      ]
     },
     "metadata": {
      "needs_background": "light"
     },
     "output_type": "display_data"
    }
   ],
   "source": [
    "plt.hist(nn_training_found_matches_s2v_2dec['similarity'],\n",
    "         alpha=0.5, bins = np.arange(0,1,0.05), label = 'training set')\n",
    "plt.hist(nn_testing_found_matches_s2v_2dec['similarity'],\n",
    "         alpha=0.5, bins = np.arange(0,1,0.05), label = 'test subset')\n",
    "plt.hist(nn_val_found_matches_s2v_2dec['similarity'],\n",
    "         alpha=0.5, bins = np.arange(0,1,0.05), label = 'validation set')\n",
    "plt.legend()\n",
    "plt.show()"
   ]
  },
  {
   "cell_type": "code",
   "execution_count": 44,
   "metadata": {},
   "outputs": [],
   "source": [
    "X_train = nn_training_found_matches_s2v_2dec.drop(['similarity', 'label'], axis = 1)\n",
    "y_train = nn_training_found_matches_s2v_2dec['similarity']\n",
    "X_test = nn_testing_found_matches_s2v_2dec.drop(['similarity', 'label'], axis = 1)\n",
    "y_test = nn_testing_found_matches_s2v_2dec['similarity']\n",
    "X_val = nn_val_found_matches_s2v_2dec.drop(['similarity', 'label'], axis = 1)\n",
    "y_val = nn_val_found_matches_s2v_2dec['similarity']"
   ]
  },
  {
   "cell_type": "markdown",
   "metadata": {},
   "source": [
    "## Load model from notebook 3"
   ]
  },
  {
   "cell_type": "code",
   "execution_count": 42,
   "metadata": {},
   "outputs": [],
   "source": [
    "#nn function\n",
    "from tensorflow.keras.models import Sequential, load_model\n",
    "from tensorflow.keras.layers import Dense\n",
    "\n",
    "def train_nn(X_train, y_train, X_test, y_test, layers = [12, 12, 12, 12, 12, 1],\n",
    "             model_loss = 'binary_crossentropy', activations = 'relu',\n",
    "             last_activation = 'sigmoid', model_epochs = 20, model_batch_size = 16,\n",
    "             save_name = False):\n",
    "    '''Train a keras deep NN and test on test data, returns (model, history, accuracy, loss)\n",
    "    \n",
    "    X_train: matrix like object like pd.DataFrame, training set\n",
    "    y_train: list like object like np.array, training labels\n",
    "    X_test: matrix like object like pd.DataFrame, test set\n",
    "    y_test: list like object like np.array, test labels\n",
    "    layers: list of ints, the number of layers is the len of this list while the elements\n",
    "        are the amount of neurons per layer, default: [12, 12, 12, 12, 12, 1]\n",
    "    model_loss: str, loss function, default: binary_crossentropy\n",
    "    activations: str, the activation of the layers except the last one, default: relu\n",
    "    last_activation: str, activation of last layer, default: sigmoid\n",
    "    model_epochs: int, number of epochs, default: 20\n",
    "    model_batch_size: int, batch size for updating the model, default: 16\n",
    "    save_name: str, location for saving model, optional, default: False\n",
    "    \n",
    "    Returns:\n",
    "    model: keras sequential\n",
    "    history: dict, training statistics\n",
    "    accuracy: float, accuracy on test set\n",
    "    loss, float, loss on test set\n",
    "    \n",
    "    If save_name is not False and save_name exists this function will load existing model\n",
    "    '''\n",
    "    if os.path.exists(save_name) and save_name:\n",
    "        print('\\nLoading existing model')\n",
    "        nn_model = load_model(save_name)\n",
    "        with open(save_name + '_train_hist.pickle', 'rb') as hist_inf:\n",
    "            history = pickle.load(hist_inf)\n",
    "    else:\n",
    "        # define the keras model\n",
    "        nn_model = Sequential()\n",
    "        #add first layer\n",
    "        nn_model.add(Dense(layers[0], input_dim = X_train.shape[1], activation = activations))\n",
    "        #add other layers\n",
    "        for i in range(1,len(layers)-1): #skip first and last one\n",
    "            nn_model.add(Dense(layers[i], activation = activations))\n",
    "        #add last layer\n",
    "        nn_model.add(Dense(layers[-1], activation = last_activation))\n",
    "        # compile the keras model\n",
    "        nn_model.compile(loss = model_loss, optimizer='adam', metrics=['accuracy'])\n",
    "        # fit the keras model on the dataset\n",
    "        hist = nn_model.fit(X_train, y_train, epochs = model_epochs, batch_size = model_batch_size)\n",
    "        history = hist.history\n",
    "    \n",
    "    #training set\n",
    "    print('Training loss: {:.4f}\\n'.format(history['loss'][-1]))\n",
    "    \n",
    "    #test set    \n",
    "    loss, accuracy = nn_model.evaluate(X_test, y_test)\n",
    "    print('Test accuracy: {:.2f}'.format(accuracy*100))\n",
    "    print('Test loss: {:.4f}'.format(loss))\n",
    "    \n",
    "    if save_name and not os.path.exists(save_name):\n",
    "        print('Saving model at:', save_name)\n",
    "        nn_model.save(save_name)\n",
    "        with open(save_name + '_train_hist.pickle', 'wb') as hist_outf:\n",
    "            pickle.dump(history, hist_outf)\n",
    "    \n",
    "    return nn_model, history, accuracy, loss"
   ]
  },
  {
   "cell_type": "code",
   "execution_count": 43,
   "metadata": {},
   "outputs": [
    {
     "name": "stdout",
     "output_type": "stream",
     "text": [
      "\n",
      "Loading existing model\n",
      "Training loss: 0.0493\n",
      "\n",
      "36000/36000 [==============================] - 1s 34us/sample - loss: 0.0496 - accuracy: 0.1081\n",
      "Test accuracy: 10.81\n",
      "Test loss: 0.0496\n"
     ]
    }
   ],
   "source": [
    "test_layers = [10,24,1]\n",
    "#model_name = os.path.join(path_data, 'nn_2000_queries_top20_1')\n",
    "model_name = os.path.join(path_data, 'nn_2000_queries_top20_layers_opt_1') #this one tested best in notebook 3\n",
    "\n",
    "nn_2000_queries_top20_1 = train_nn(X_train, y_train, X_test, y_test, layers = test_layers,\n",
    "         model_loss = 'mean_squared_error', activations = 'relu', last_activation = None,\n",
    "         model_epochs = 50, model_batch_size = 16, save_name = model_name)"
   ]
  },
  {
   "cell_type": "markdown",
   "metadata": {},
   "source": [
    "## Model trimming"
   ]
  },
  {
   "cell_type": "code",
   "execution_count": null,
   "metadata": {},
   "outputs": [],
   "source": [
    "layers = [24,1]\n",
    "\n",
    "# define the keras model\n",
    "nn_model = Sequential()\n",
    "#add first layer\n",
    "nn_model.add(Dense(layers[0], input_dim = X_train.shape[1], activation = activations))\n",
    "#add other layers\n",
    "for i in range(1,len(layers)-1): #skip first and last one\n",
    "    nn_model.add(Dense(layers[i], activation = 'relu'))\n",
    "#add last layer\n",
    "nn_model.add(Dense(layers[-1], activation = None))\n",
    "# compile the keras model\n",
    "nn_model.compile(loss = 'mean_squared_error', optimizer='adam', metrics=['accuracy'])\n",
    "# fit the keras model on the dataset\n",
    "hist = nn_model.fit(X_train, y_train, epochs = 50, batch_size = 16, validation_data=(X_val, y_val))\n",
    "history = hist.history"
   ]
  }
 ],
 "metadata": {
  "kernelspec": {
   "display_name": "Python 3",
   "language": "python",
   "name": "python3"
  },
  "language_info": {
   "codemirror_mode": {
    "name": "ipython",
    "version": 3
   },
   "file_extension": ".py",
   "mimetype": "text/x-python",
   "name": "python",
   "nbconvert_exporter": "python",
   "pygments_lexer": "ipython3",
   "version": "3.7.7"
  }
 },
 "nbformat": 4,
 "nbformat_minor": 4
}
