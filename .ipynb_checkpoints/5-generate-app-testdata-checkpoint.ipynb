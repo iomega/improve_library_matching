{
 "cells": [
  {
   "cell_type": "code",
   "execution_count": 1,
   "metadata": {},
   "outputs": [],
   "source": [
    "import os\n",
    "import sys\n",
    "import gensim\n",
    "import numpy as np\n",
    "import pandas as pd\n",
    "from matplotlib import pyplot as plt\n",
    "import pickle\n",
    "import networkx as nx\n",
    "from networkx.drawing.nx_pydot import graphviz_layout\n",
    "\n",
    "ROOT = os.path.dirname(os.getcwd())\n",
    "#path_data = os.path.join(ROOT, 'data')\n",
    "path_data = 'C:\\\\Users\\\\joris\\\\Documents\\\\eScience_data\\\\data'\n",
    "sys.path.insert(0, ROOT)\n",
    "sys.path.insert(0, \"C:\\\\Users\\\\joris\\\\Documents\\\\eScience_data\\\\spec2vec_gnps_data_analysis\\\\custom_functions\")"
   ]
  },
  {
   "cell_type": "code",
   "execution_count": 5,
   "metadata": {},
   "outputs": [],
   "source": [
    "sys.path.insert(0, \"C:\\\\Users\\\\joris\\\\Documents\\\\eScience_data\\\\ms2query\\\\ms2query\")\n",
    "import s2v_functions\n",
    "import utils\n",
    "import networking"
   ]
  },
  {
   "cell_type": "code",
   "execution_count": null,
   "metadata": {},
   "outputs": [],
   "source": [
    "outfile = os.path.join(path_data, 'testing_query_library_s2v_2dec.pickle')\n",
    "print(outfile)\n",
    "if os.path.exists(outfile):\n",
    "    with open(outfile, 'rb') as inf:\n",
    "        testing_query_library_s2v_2dec = pickle.load(inf)\n",
    "        new_and_unique2_documents_query_s2v_2dec, new_and_unique2_documents_library_s2v_2dec = testing_query_library_s2v_2dec\n",
    "else:\n",
    "    with open(outfile, 'wb') as outf:\n",
    "        testing_query_library_s2v_2dec = (new_and_unique2_documents_query_s2v_2dec, new_and_unique2_documents_library_s2v_2dec)\n",
    "        pickle.dump(testing_query_library_s2v_2dec, outf)"
   ]
  },
  {
   "cell_type": "code",
   "execution_count": null,
   "metadata": {},
   "outputs": [],
   "source": [
    "from matchms.importing import load_from_json\n",
    "outfile = os.path.join(path_data, 'gnps_positive_ionmode_cleaned_by_matchms_and_lookups.pickle')\n",
    "print(outfile)\n",
    "if os.path.exists(outfile):\n",
    "    with open(outfile, 'rb') as inf:\n",
    "        spectrums = pickle.load(inf)\n",
    "else:\n",
    "    filename = os.path.join(path_data,'gnps_positive_ionmode_cleaned_by_matchms_and_lookups.json')\n",
    "    spectrums = load_from_json(filename)\n",
    "    with open(outfile, 'wb') as outf:\n",
    "        pickle.dump(spectrums, outf)\n",
    "\n",
    "print(\"number of spectra:\", len(spectrums))"
   ]
  },
  {
   "cell_type": "code",
   "execution_count": null,
   "metadata": {},
   "outputs": [],
   "source": [
    "#take this one as example for dummy_app. it's staurosporine!\n",
    "print(new_and_unique2_documents_query_s2v_2dec[2]._obj.metadata.get('spectrum_id'))\n",
    "print([new_and_unique2_documents_library_s2v_2dec[x]._obj.metadata.get('spectrum_id') for x in [22101, 20538, 22454, 1366, 65357]])\n",
    "nn_tested_found_matches_s2v_3_scores_top40[2].iloc[:10]"
   ]
  },
  {
   "cell_type": "code",
   "execution_count": null,
   "metadata": {},
   "outputs": [],
   "source": [
    "testspec_query_id = new_and_unique2_documents_query_s2v_2dec[2]._obj.metadata.get('spectrum_id')\n",
    "testspec_lib_ids = set([new_and_unique2_documents_library_s2v_2dec[x]._obj.metadata.get('spectrum_id') \\\n",
    "                        for x in [22101, 20538, 22454, 1366, 65357]])\n",
    "#get unfiltered spectra data\n",
    "testspec_libs = []\n",
    "for spec in spectrums:\n",
    "    if spec.metadata.get('spectrum_id') == testspec_query_id:\n",
    "        testspec_query = spec\n",
    "    elif spec.metadata.get('spectrum_id') in testspec_lib_ids:\n",
    "        testspec_libs.append(spec)"
   ]
  },
  {
   "cell_type": "code",
   "execution_count": null,
   "metadata": {},
   "outputs": [],
   "source": [
    "from matchms.Spectrum import Spectrum\n",
    "isinstance(testspec_query, Spectrum)"
   ]
  },
  {
   "cell_type": "code",
   "execution_count": null,
   "metadata": {},
   "outputs": [],
   "source": [
    "from matchms.exporting import save_as_json\n",
    "testspec_query_out = os.path.join(path_data, 'testspectrum_query.json')\n",
    "save_as_json(testspec_query, testspec_query_out)\n",
    "\n",
    "testspec_libs_out = os.path.join(path_data, 'testspectrum_library.json')\n",
    "save_as_json(testspec_libs, testspec_libs_out)"
   ]
  },
  {
   "cell_type": "code",
   "execution_count": null,
   "metadata": {},
   "outputs": [],
   "source": [
    "# example_found_matches = new_and_unique2_found_matches_s2v_2dec[2].loc[[22101, 20538, 22454, 1366, 65357], :]\n",
    "example_found_matches_file = \"C:\\\\Users\\\\joris\\\\Documents\\\\eScience_data\\\\data\\\\test_found_matches.csv\"\n",
    "example_found_matches.to_csv(example_found_matches_file)\n",
    "example_found_matches"
   ]
  },
  {
   "cell_type": "code",
   "execution_count": 4,
   "metadata": {},
   "outputs": [
    {
     "data": {
      "text/html": [
       "<div>\n",
       "<style scoped>\n",
       "    .dataframe tbody tr th:only-of-type {\n",
       "        vertical-align: middle;\n",
       "    }\n",
       "\n",
       "    .dataframe tbody tr th {\n",
       "        vertical-align: top;\n",
       "    }\n",
       "\n",
       "    .dataframe thead th {\n",
       "        text-align: right;\n",
       "    }\n",
       "</style>\n",
       "<table border=\"1\" class=\"dataframe\">\n",
       "  <thead>\n",
       "    <tr style=\"text-align: right;\">\n",
       "      <th></th>\n",
       "      <th>cosine_score</th>\n",
       "      <th>cosine_matches</th>\n",
       "      <th>mod_cosine_score</th>\n",
       "      <th>mod_cosine_matches</th>\n",
       "      <th>s2v_score</th>\n",
       "    </tr>\n",
       "  </thead>\n",
       "  <tbody>\n",
       "    <tr>\n",
       "      <th>22101</th>\n",
       "      <td>0.928457</td>\n",
       "      <td>15</td>\n",
       "      <td>0.928457</td>\n",
       "      <td>15</td>\n",
       "      <td>0.909346</td>\n",
       "    </tr>\n",
       "    <tr>\n",
       "      <th>20538</th>\n",
       "      <td>0.856661</td>\n",
       "      <td>11</td>\n",
       "      <td>0.856661</td>\n",
       "      <td>11</td>\n",
       "      <td>0.859138</td>\n",
       "    </tr>\n",
       "    <tr>\n",
       "      <th>22454</th>\n",
       "      <td>0.857507</td>\n",
       "      <td>11</td>\n",
       "      <td>0.857507</td>\n",
       "      <td>11</td>\n",
       "      <td>0.674490</td>\n",
       "    </tr>\n",
       "    <tr>\n",
       "      <th>1366</th>\n",
       "      <td>0.389183</td>\n",
       "      <td>11</td>\n",
       "      <td>0.389183</td>\n",
       "      <td>11</td>\n",
       "      <td>0.584506</td>\n",
       "    </tr>\n",
       "    <tr>\n",
       "      <th>65357</th>\n",
       "      <td>0.090625</td>\n",
       "      <td>3</td>\n",
       "      <td>0.108395</td>\n",
       "      <td>5</td>\n",
       "      <td>0.277905</td>\n",
       "    </tr>\n",
       "  </tbody>\n",
       "</table>\n",
       "</div>"
      ],
      "text/plain": [
       "       cosine_score  cosine_matches  mod_cosine_score  mod_cosine_matches  \\\n",
       "22101      0.928457              15          0.928457                  15   \n",
       "20538      0.856661              11          0.856661                  11   \n",
       "22454      0.857507              11          0.857507                  11   \n",
       "1366       0.389183              11          0.389183                  11   \n",
       "65357      0.090625               3          0.108395                   5   \n",
       "\n",
       "       s2v_score  \n",
       "22101   0.909346  \n",
       "20538   0.859138  \n",
       "22454   0.674490  \n",
       "1366    0.584506  \n",
       "65357   0.277905  "
      ]
     },
     "execution_count": 4,
     "metadata": {},
     "output_type": "execute_result"
    }
   ],
   "source": [
    "example_found_matches_file = \"C:\\\\Users\\\\joris\\\\Documents\\\\eScience_data\\\\data\\\\test_found_matches.csv\"\n",
    "example_found_matches = pd.read_csv(example_found_matches_file, index_col=0)\n",
    "example_found_matches"
   ]
  },
  {
   "cell_type": "code",
   "execution_count": 8,
   "metadata": {},
   "outputs": [],
   "source": [
    "testspec_query_out = os.path.join(path_data, 'testspectrum_query.json')\n",
    "testspec_libs_out = os.path.join(path_data, 'testspectrum_library.json')\n",
    "test_query = utils.json_loader(open(testspec_query_out))\n",
    "test_library = utils.json_loader(open(testspec_libs_out))\n",
    "test_doc_query = s2v_functions.process_spectrums(test_query)\n",
    "test_doc_library = s2v_functions.process_spectrums(test_library)"
   ]
  },
  {
   "cell_type": "code",
   "execution_count": 9,
   "metadata": {},
   "outputs": [
    {
     "data": {
      "text/plain": [
       "['CCMSLIB00000223876',\n",
       " 'CCMSLIB00003136327',\n",
       " 'CCMSLIB00003138082',\n",
       " 'CCMSLIB00003138470',\n",
       " 'CCMSLIB00000566496']"
      ]
     },
     "execution_count": 9,
     "metadata": {},
     "output_type": "execute_result"
    }
   ],
   "source": [
    "[doc._obj.get(\"spectrumid\") for doc in test_doc_library]"
   ]
  },
  {
   "cell_type": "code",
   "execution_count": 9,
   "metadata": {},
   "outputs": [
    {
     "name": "stdout",
     "output_type": "stream",
     "text": [
      "  Epoch 1 of 20.Change in loss after epoch 1: 4553.359375\n",
      "Saving model with name: C:\\Users\\joris\\Documents\\eScience_data\\data\\trained_models\\testspectrum_library_model_iter_1.model\n",
      "  Epoch 2 of 20.Change in loss after epoch 2: 4556.564453125\n",
      "  Epoch 3 of 20.Change in loss after epoch 3: 4534.333984375\n",
      "Saving model with name: C:\\Users\\joris\\Documents\\eScience_data\\data\\trained_models\\testspectrum_library_model_iter_3.model\n",
      "  Epoch 4 of 20.Change in loss after epoch 4: 4520.9140625\n",
      "  Epoch 5 of 20.Change in loss after epoch 5: 4530.05078125\n",
      "Saving model with name: C:\\Users\\joris\\Documents\\eScience_data\\data\\trained_models\\testspectrum_library_model_iter_5.model\n",
      "  Epoch 6 of 20.Change in loss after epoch 6: 4551.943359375\n",
      "  Epoch 7 of 20.Change in loss after epoch 7: 4555.474609375\n",
      "  Epoch 8 of 20.Change in loss after epoch 8: 4534.7578125\n",
      "  Epoch 9 of 20.Change in loss after epoch 9: 4544.56640625\n",
      "  Epoch 10 of 20.Change in loss after epoch 10: 4544.50390625\n",
      "Saving model with name: C:\\Users\\joris\\Documents\\eScience_data\\data\\trained_models\\testspectrum_library_model_iter_10.model\n",
      "  Epoch 11 of 20.Change in loss after epoch 11: 4434.9921875\n",
      "  Epoch 12 of 20.Change in loss after epoch 12: 4215.421875\n",
      "  Epoch 13 of 20.Change in loss after epoch 13: 3770.8359375\n",
      "  Epoch 14 of 20.Change in loss after epoch 14: 3382.234375\n",
      "  Epoch 15 of 20.Change in loss after epoch 15: 3214.3046875\n",
      "Saving model with name: C:\\Users\\joris\\Documents\\eScience_data\\data\\trained_models\\testspectrum_library_model_iter_15.model\n",
      "  Epoch 16 of 20.Change in loss after epoch 16: 3158.3515625\n",
      "  Epoch 17 of 20.Change in loss after epoch 17: 3137.9296875\n",
      "  Epoch 18 of 20.Change in loss after epoch 18: 3135.0703125\n",
      "  Epoch 19 of 20.Change in loss after epoch 19: 3128.171875\n",
      "  Epoch 20 of 20.Change in loss after epoch 20: 3099.6328125\n",
      "Saving model with name: C:\\Users\\joris\\Documents\\eScience_data\\data\\trained_models\\testspectrum_library_model.model\n"
     ]
    }
   ],
   "source": [
    "from spec2vec.model_building import train_new_word2vec_model\n",
    "\n",
    "path_models = os.path.join(path_data, \"trained_models\")\n",
    "model_file = os.path.join(path_models, \"testspectrum_library_model.model\")\n",
    "\n",
    "iterations = [1, 3, 5, 10, 15, 20]\n",
    "\n",
    "# Train model with default parameters\n",
    "model = train_new_word2vec_model(test_doc_library, iterations, model_file)"
   ]
  },
  {
   "cell_type": "code",
   "execution_count": 11,
   "metadata": {},
   "outputs": [],
   "source": [
    "path_models = os.path.join(path_data, \"trained_models\")\n",
    "model_file = os.path.join(path_models, \"testspectrum_library_model.model\")\n",
    "model = gensim.models.Word2Vec.load(model_file)"
   ]
  },
  {
   "cell_type": "code",
   "execution_count": 15,
   "metadata": {},
   "outputs": [
    {
     "name": "stdout",
     "output_type": "stream",
     "text": [
      "Pre-selection includes spec2vec top 5.\n"
     ]
    },
    {
     "ename": "AttributeError",
     "evalue": "'Spec2Vec' object has no attribute 'matrix'",
     "output_type": "error",
     "traceback": [
      "\u001b[1;31m---------------------------------------------------------------------------\u001b[0m",
      "\u001b[1;31mAttributeError\u001b[0m                            Traceback (most recent call last)",
      "\u001b[1;32m<ipython-input-15-3488d0dac74e>\u001b[0m in \u001b[0;36m<module>\u001b[1;34m\u001b[0m\n\u001b[0;32m      2\u001b[0m test_found_matches = s2v_functions.library_matching(test_doc_query, test_doc_library, model,\n\u001b[0;32m      3\u001b[0m                                                     \u001b[0mpresearch_based_on\u001b[0m\u001b[1;33m=\u001b[0m\u001b[1;33m[\u001b[0m\u001b[1;34mf\"spec2vec-top{lib_length}\"\u001b[0m\u001b[1;33m]\u001b[0m\u001b[1;33m,\u001b[0m\u001b[1;33m\u001b[0m\u001b[1;33m\u001b[0m\u001b[0m\n\u001b[1;32m----> 4\u001b[1;33m                                                     **{\"allowed_missing_percentage\": 100})\n\u001b[0m",
      "\u001b[1;32m~\\Documents\\eScience_data\\ms2query\\ms2query\\s2v_functions.py\u001b[0m in \u001b[0;36mlibrary_matching\u001b[1;34m(documents_query, documents_library, model, presearch_based_on, include_scores, **settings)\u001b[0m\n\u001b[0;32m    488\u001b[0m         \u001b[0mdocuments_query\u001b[0m\u001b[1;33m,\u001b[0m \u001b[0mdocuments_library\u001b[0m\u001b[1;33m,\u001b[0m \u001b[0mmodel\u001b[0m\u001b[1;33m,\u001b[0m \u001b[0mlibrary_ids\u001b[0m\u001b[1;33m,\u001b[0m\u001b[1;33m\u001b[0m\u001b[1;33m\u001b[0m\u001b[0m\n\u001b[0;32m    489\u001b[0m         \u001b[0mpresearch_based_on\u001b[0m\u001b[1;33m,\u001b[0m \u001b[0msettings\u001b[0m\u001b[1;33m[\u001b[0m\u001b[1;34m\"intensity_weighting_power\"\u001b[0m\u001b[1;33m]\u001b[0m\u001b[1;33m,\u001b[0m\u001b[1;33m\u001b[0m\u001b[1;33m\u001b[0m\u001b[0m\n\u001b[1;32m--> 490\u001b[1;33m         settings[\"allowed_missing_percentage\"])\n\u001b[0m\u001b[0;32m    491\u001b[0m \u001b[1;33m\u001b[0m\u001b[0m\n\u001b[0;32m    492\u001b[0m     \u001b[1;31m# 2. Search for parent mass based matches ---------------------------------\u001b[0m\u001b[1;33m\u001b[0m\u001b[1;33m\u001b[0m\u001b[1;33m\u001b[0m\u001b[0m\n",
      "\u001b[1;32m~\\Documents\\eScience_data\\ms2query\\ms2query\\s2v_functions.py\u001b[0m in \u001b[0;36msearch_topn_s2v_matches\u001b[1;34m(documents_query, documents_library, model, library_ids, presearch_based_on, intensity_weighting_power, allowed_missing_percentage)\u001b[0m\n\u001b[0;32m    183\u001b[0m             \u001b[0mmodel\u001b[0m\u001b[1;33m=\u001b[0m\u001b[0mmodel\u001b[0m\u001b[1;33m,\u001b[0m \u001b[0mintensity_weighting_power\u001b[0m\u001b[1;33m=\u001b[0m\u001b[0mintensity_weighting_power\u001b[0m\u001b[1;33m,\u001b[0m\u001b[1;33m\u001b[0m\u001b[1;33m\u001b[0m\u001b[0m\n\u001b[0;32m    184\u001b[0m             allowed_missing_percentage=allowed_missing_percentage)\n\u001b[1;32m--> 185\u001b[1;33m         m_spec2vec_similarities = spec2vec.matrix(\n\u001b[0m\u001b[0;32m    186\u001b[0m             \u001b[1;33m[\u001b[0m\u001b[0mdocuments_library\u001b[0m\u001b[1;33m[\u001b[0m\u001b[0mi\u001b[0m\u001b[1;33m]\u001b[0m \u001b[1;32mfor\u001b[0m \u001b[0mi\u001b[0m \u001b[1;32min\u001b[0m \u001b[0mlibrary_ids\u001b[0m\u001b[1;33m]\u001b[0m\u001b[1;33m,\u001b[0m\u001b[1;33m\u001b[0m\u001b[1;33m\u001b[0m\u001b[0m\n\u001b[0;32m    187\u001b[0m             documents_query)\n",
      "\u001b[1;31mAttributeError\u001b[0m: 'Spec2Vec' object has no attribute 'matrix'"
     ]
    }
   ],
   "source": [
    "lib_length = len(test_doc_library)\n",
    "test_found_matches = s2v_functions.library_matching(test_doc_query, test_doc_library, model,\n",
    "                                                    presearch_based_on=[f\"spec2vec-top{lib_length}\"],\n",
    "                                                    **{\"allowed_missing_percentage\": 100})"
   ]
  }
 ],
 "metadata": {
  "kernelspec": {
   "display_name": "Python 3",
   "language": "python",
   "name": "python3"
  },
  "language_info": {
   "codemirror_mode": {
    "name": "ipython",
    "version": 3
   },
   "file_extension": ".py",
   "mimetype": "text/x-python",
   "name": "python",
   "nbconvert_exporter": "python",
   "pygments_lexer": "ipython3",
   "version": "3.7.7"
  }
 },
 "nbformat": 4,
 "nbformat_minor": 4
}
