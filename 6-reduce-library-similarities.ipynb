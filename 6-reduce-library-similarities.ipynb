{
 "cells": [
  {
   "cell_type": "code",
   "execution_count": 3,
   "metadata": {},
   "outputs": [
    {
     "data": {
      "text/plain": [
       "(True, True)"
      ]
     },
     "execution_count": 3,
     "metadata": {},
     "output_type": "execute_result"
    }
   ],
   "source": [
    "import os\n",
    "import numpy as np\n",
    "\n",
    "meta_file = \"C:\\\\users\\\\joris\\\\Documents\\\\eScience_data\\\\data\\\\Similarity_matrix_AllPositive\\\\metadata_AllInchikeys.csv\"\n",
    "sim_file = \"C:\\\\users\\\\joris\\\\Documents\\\\eScience_data\\\\data\\\\Similarity_matrix_AllPositive\\\\similarities_AllInchikeys_daylight2048_jaccard.npy\"\n",
    "os.path.isfile(meta_file), os.path.isfile(sim_file)"
   ]
  },
  {
   "cell_type": "code",
   "execution_count": 29,
   "metadata": {},
   "outputs": [],
   "source": [
    "with open(meta_file, 'r') as inf:\n",
    "    header = inf.readline()\n",
    "    lines = inf.readlines()\n",
    "\n",
    "add_lines = {}\n",
    "keep_inds = []\n",
    "for i, line in enumerate(lines):\n",
    "    line = line.strip().split(',')\n",
    "    inchi = line[1]\n",
    "    uniq_inchi = inchi.partition(\"-\")[0]\n",
    "    if uniq_inchi not in add_lines:\n",
    "            new_line = ','.join([uniq_inchi]+line[2:])\n",
    "            keep_inds.append((i, uniq_inchi))\n",
    "            add_lines[uniq_inchi] = new_line\n",
    "    else:\n",
    "            add_lines[uniq_inchi] += ';'+ line[-1]"
   ]
  },
  {
   "cell_type": "code",
   "execution_count": 30,
   "metadata": {},
   "outputs": [
    {
     "data": {
      "text/plain": [
       "(12846, 12846, 14459)"
      ]
     },
     "execution_count": 30,
     "metadata": {},
     "output_type": "execute_result"
    }
   ],
   "source": [
    "len(keep_inds), len(add_lines), len(lines)"
   ]
  },
  {
   "cell_type": "code",
   "execution_count": 26,
   "metadata": {},
   "outputs": [
    {
     "data": {
      "text/plain": [
       "(memmap([[1.        , 0.09930716, 0.23619371, ..., 0.21175523, 0.33166144,\n",
       "          0.18229623],\n",
       "         [0.09930716, 1.        , 0.09296782, ..., 0.09761635, 0.11690141,\n",
       "          0.09446694],\n",
       "         [0.23619371, 0.09296782, 1.        , ..., 0.26397248, 0.30480949,\n",
       "          0.41290323],\n",
       "         ...,\n",
       "         [0.21175523, 0.09761635, 0.26397248, ..., 1.        , 0.33022388,\n",
       "          0.25946445],\n",
       "         [0.33166144, 0.11690141, 0.30480949, ..., 0.33022388, 1.        ,\n",
       "          0.2511041 ],\n",
       "         [0.18229623, 0.09446694, 0.41290323, ..., 0.25946445, 0.2511041 ,\n",
       "          1.        ]]),\n",
       " (12846, 12846))"
      ]
     },
     "execution_count": 26,
     "metadata": {},
     "output_type": "execute_result"
    }
   ],
   "source": [
    "inds, inchi14s = zip(*keep_inds)\n",
    "sim_map = np.lib.format.open_memmap(sim_file, dtype=\"float64\", mode=\"r\")\n",
    "row_slice = np.take(sim_map, inds, 0)\n",
    "final_slice = np.take(row_slice, inds, 1)\n",
    "final_slice, final_slice.shape"
   ]
  },
  {
   "cell_type": "code",
   "execution_count": 27,
   "metadata": {},
   "outputs": [],
   "source": [
    "output_folder = \"C:\\\\users\\\\joris\\\\Documents\\\\eScience_data\\\\data\\\\Similarity_matrix_AllPositive\\\\\"\n",
    "sim_output = os.path.join(output_folder, \"similarities_AllInchikeys14_daylight2048_jaccard.npy\")\n",
    "metadata_output = os.path.join(output_folder, \"metadata_AllInchikeys14.csv\")"
   ]
  },
  {
   "cell_type": "code",
   "execution_count": 35,
   "metadata": {},
   "outputs": [
    {
     "name": "stdout",
     "output_type": "stream",
     "text": [
      "C:\\users\\joris\\Documents\\eScience_data\\data\\Similarity_matrix_AllPositive\\similarities_AllInchikeys14_daylight2048_jaccard.npy\n"
     ]
    }
   ],
   "source": [
    "print(sim_output)"
   ]
  },
  {
   "cell_type": "code",
   "execution_count": 28,
   "metadata": {},
   "outputs": [],
   "source": [
    "final_slice = np.array(final_slice)\n",
    "np.save(sim_output, final_slice)\n",
    "del(final_slice)"
   ]
  },
  {
   "cell_type": "code",
   "execution_count": 33,
   "metadata": {},
   "outputs": [],
   "source": [
    "with open(metadata_output, 'w') as outf:\n",
    "    outf.write(header)\n",
    "    for i, (old_ind, inchi14) in enumerate(keep_inds):\n",
    "        line_no_i = add_lines[inchi14]\n",
    "        new_line = f\"{i},{line_no_i}\\n\"\n",
    "        outf.write(new_line)"
   ]
  }
 ],
 "metadata": {
  "kernelspec": {
   "display_name": "Python 3",
   "language": "python",
   "name": "python3"
  },
  "language_info": {
   "codemirror_mode": {
    "name": "ipython",
    "version": 3
   },
   "file_extension": ".py",
   "mimetype": "text/x-python",
   "name": "python",
   "nbconvert_exporter": "python",
   "pygments_lexer": "ipython3",
   "version": "3.7.7"
  }
 },
 "nbformat": 4,
 "nbformat_minor": 4
}
